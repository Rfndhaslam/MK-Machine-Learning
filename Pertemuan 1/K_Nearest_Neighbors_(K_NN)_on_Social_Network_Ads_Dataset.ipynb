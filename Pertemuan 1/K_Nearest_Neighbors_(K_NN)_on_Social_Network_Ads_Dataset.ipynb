{
  "nbformat": 4,
  "nbformat_minor": 0,
  "metadata": {
    "colab": {
      "provenance": [],
      "toc_visible": true
    },
    "kernelspec": {
      "name": "python3",
      "display_name": "Python 3"
    },
    "language_info": {
      "name": "python"
    }
  },
  "cells": [
    {
      "cell_type": "code",
      "execution_count": null,
      "metadata": {
        "id": "yCSMhvUagMZL"
      },
      "outputs": [],
      "source": [
        "# Import libraries\n",
        "import pandas as pd\n",
        "import numpy as np\n",
        "from sklearn.model_selection import train_test_split\n",
        "from sklearn.neighbors import KNeighborsClassifier\n",
        "from sklearn.metrics import classification_report, accuracy_score\n",
        "from sklearn.preprocessing import StandardScaler"
      ]
    },
    {
      "cell_type": "code",
      "source": [
        "# Load Social Network Ads dataset\n",
        "# Asumsikan dataset ada di file CSV\n",
        "# Misal file bernama 'Social_Network_Ads.csv', upload file ini ke Colab atau Google Drive\n",
        "df_ads = pd.read_csv('Social_Network_Ads.csv')\n",
        "\n",
        "# Tampilkan beberapa baris pertama data\n",
        "df_ads.head()\n",
        "\n",
        "# Pisahkan fitur dan target\n",
        "# Misalnya, kita menggunakan kolom 'Age' dan 'EstimatedSalary' sebagai fitur dan 'Purchased' sebagai target\n",
        "X_ads = df_ads[['Age', 'EstimatedSalary']]\n",
        "y_ads = df_ads['Purchased']\n",
        "\n",
        "# Bagi data menjadi training dan test sets\n",
        "X_train_ads, X_test_ads, y_train_ads, y_test_ads = train_test_split(X_ads, y_ads, test_size=0.25, random_state=42)"
      ],
      "metadata": {
        "id": "7hlelbFmgytJ"
      },
      "execution_count": null,
      "outputs": []
    },
    {
      "cell_type": "code",
      "source": [
        "# Lakukan normalisasi menggunakan StandardScaler\n",
        "scaler = StandardScaler()\n",
        "X_train_ads = scaler.fit_transform(X_train_ads)\n",
        "X_test_ads = scaler.transform(X_test_ads)\n",
        "\n",
        "# Inisialisasi model K-NN dengan k=5\n",
        "knn = KNeighborsClassifier(n_neighbors=5)\n",
        "\n",
        "# Latih model\n",
        "knn.fit(X_train_ads, y_train_ads)\n",
        "\n",
        "# Prediksi data test\n",
        "y_pred_ads = knn.predict(X_test_ads)"
      ],
      "metadata": {
        "id": "4APKz8Gtg-nF"
      },
      "execution_count": null,
      "outputs": []
    },
    {
      "cell_type": "code",
      "source": [
        "# Evaluasi model\n",
        "accuracy_ads = accuracy_score(y_test_ads, y_pred_ads)\n",
        "print(\"Accuracy K-NN (Social Network Ads):\", accuracy_ads)\n",
        "\n",
        "# Classification report\n",
        "print(classification_report(y_test_ads, y_pred_ads))"
      ],
      "metadata": {
        "colab": {
          "base_uri": "https://localhost:8080/"
        },
        "id": "t3bEQDtmhJkh",
        "outputId": "04385514-9fd6-494a-9249-99107efccfbe"
      },
      "execution_count": null,
      "outputs": [
        {
          "output_type": "stream",
          "name": "stdout",
          "text": [
            "Accuracy K-NN (Social Network Ads): 0.93\n",
            "              precision    recall  f1-score   support\n",
            "\n",
            "           0       0.95      0.94      0.94        63\n",
            "           1       0.89      0.92      0.91        37\n",
            "\n",
            "    accuracy                           0.93       100\n",
            "   macro avg       0.92      0.93      0.93       100\n",
            "weighted avg       0.93      0.93      0.93       100\n",
            "\n"
          ]
        }
      ]
    }
  ]
}