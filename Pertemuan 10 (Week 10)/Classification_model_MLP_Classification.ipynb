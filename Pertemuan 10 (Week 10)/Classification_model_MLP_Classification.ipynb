{
  "nbformat": 4,
  "nbformat_minor": 0,
  "metadata": {
    "colab": {
      "provenance": []
    },
    "kernelspec": {
      "name": "python3",
      "display_name": "Python 3"
    },
    "language_info": {
      "name": "python"
    }
  },
  "cells": [
    {
      "cell_type": "code",
      "execution_count": 2,
      "metadata": {
        "id": "qyy4tlknpFJo"
      },
      "outputs": [],
      "source": [
        "# Import libraries\n",
        "import torch\n",
        "import torch.nn as nn\n",
        "import torch.optim as optim\n",
        "from torch.utils.data import DataLoader, TensorDataset\n",
        "from sklearn.model_selection import train_test_split\n",
        "from sklearn.preprocessing import StandardScaler\n",
        "import pandas as pd\n",
        "import numpy as np\n",
        "\n",
        "# Load dataset\n",
        "column_names = [\n",
        "    'Class', 'Alcohol', 'Malic_acid', 'Ash', 'Alcalinity_of_ash', 'Magnesium',\n",
        "    'Total_phenols', 'Flavanoids', 'Nonflavanoid_phenols', 'Proanthocyanins',\n",
        "    'Color_intensity', 'Hue', 'OD280_OD315_of_diluted_wines', 'Proline'\n",
        "]\n",
        "wine_data = pd.read_csv('wine.data', header=None, names=column_names)\n"
      ]
    },
    {
      "cell_type": "code",
      "source": [
        "# Preprocess data\n",
        "X = wine_data.drop('Class', axis=1)\n",
        "y = wine_data['Class']\n",
        "scaler = StandardScaler()\n",
        "X_normalized = scaler.fit_transform(X)\n",
        "\n",
        "# Split dataset\n",
        "X_train, X_test, y_train, y_test = train_test_split(\n",
        "    X_normalized, y, test_size=0.2, random_state=42, stratify=y\n",
        ")\n",
        "\n",
        "# Convert to PyTorch tensors\n",
        "X_train_tensor = torch.tensor(X_train, dtype=torch.float32)\n",
        "y_train_tensor = torch.tensor(y_train.values, dtype=torch.long) - 1  # PyTorch class starts at 0\n",
        "X_test_tensor = torch.tensor(X_test, dtype=torch.float32)\n",
        "y_test_tensor = torch.tensor(y_test.values, dtype=torch.long) - 1\n"
      ],
      "metadata": {
        "id": "kSXt0kXXpiTY"
      },
      "execution_count": 3,
      "outputs": []
    },
    {
      "cell_type": "code",
      "source": [
        "# Define MLP Model\n",
        "class SimpleMLP(nn.Module):\n",
        "    def __init__(self, input_size, hidden_sizes, output_size, activation_fn):\n",
        "        super(SimpleMLP, self).__init__()\n",
        "        layers = []\n",
        "        current_size = input_size\n",
        "        for hidden_size in hidden_sizes:\n",
        "            layers.append(nn.Linear(current_size, hidden_size))\n",
        "            layers.append(activation_fn())\n",
        "            current_size = hidden_size\n",
        "        layers.append(nn.Linear(current_size, output_size))\n",
        "        self.model = nn.Sequential(*layers)\n",
        "\n",
        "    def forward(self, x):\n",
        "        return self.model(x)\n"
      ],
      "metadata": {
        "id": "beNmsBvypmWg"
      },
      "execution_count": 4,
      "outputs": []
    },
    {
      "cell_type": "code",
      "source": [
        "# Training and evaluation function\n",
        "def train_and_evaluate(hidden_sizes, activation_fn, learning_rate, epochs, batch_size):\n",
        "    def create_dataloader(X, y, batch_size):\n",
        "        dataset = TensorDataset(X, y)\n",
        "        return DataLoader(dataset, batch_size=batch_size, shuffle=True)\n",
        "\n",
        "    train_loader = create_dataloader(X_train_tensor, y_train_tensor, batch_size)\n",
        "    test_loader = create_dataloader(X_test_tensor, y_test_tensor, batch_size)\n",
        "\n",
        "    # Model initialization\n",
        "    model = SimpleMLP(X_train.shape[1], hidden_sizes, len(y.unique()), activation_fn)\n",
        "    criterion = nn.CrossEntropyLoss()\n",
        "    optimizer = optim.SGD(model.parameters(), lr=learning_rate)\n",
        "\n",
        "    # Training loop\n",
        "    for epoch in range(epochs):\n",
        "        model.train()\n",
        "        for X_batch, y_batch in train_loader:\n",
        "            optimizer.zero_grad()\n",
        "            outputs = model(X_batch)\n",
        "            loss = criterion(outputs, y_batch)\n",
        "            loss.backward()\n",
        "            optimizer.step()\n",
        "\n",
        "    # Evaluation\n",
        "    model.eval()\n",
        "    correct = 0\n",
        "    total = 0\n",
        "    with torch.no_grad():\n",
        "        for X_batch, y_batch in test_loader:\n",
        "            outputs = model(X_batch)\n",
        "            _, predicted = torch.max(outputs, 1)\n",
        "            total += y_batch.size(0)\n",
        "            correct += (predicted == y_batch).sum().item()\n",
        "\n",
        "    accuracy = correct / total\n",
        "    return accuracy\n"
      ],
      "metadata": {
        "id": "S8H6rUmlpsp2"
      },
      "execution_count": 5,
      "outputs": []
    },
    {
      "cell_type": "code",
      "source": [
        "# Hyperparameter combinations\n",
        "hidden_layers_options = [[4], [8, 8], [16, 16, 16]]\n",
        "activation_functions = [nn.ReLU, nn.Sigmoid, nn.Tanh, nn.Identity]  # Identity for linear\n",
        "learning_rates = [10, 1, 0.1, 0.01, 0.001, 0.0001]\n",
        "epochs_options = [1, 10, 25, 50, 100, 250]\n",
        "batch_sizes = [16, 32, 64, 128, 256, 512]\n",
        "\n",
        "# Run experiments\n",
        "results = []\n",
        "for hidden_layers in hidden_layers_options:\n",
        "    for activation_fn in activation_functions:\n",
        "        for lr in learning_rates:\n",
        "            for epochs in epochs_options:\n",
        "                for batch_size in batch_sizes:\n",
        "                    accuracy = train_and_evaluate(hidden_layers, activation_fn, lr, epochs, batch_size)\n",
        "                    results.append({\n",
        "                        'Hidden Layers': hidden_layers,\n",
        "                        'Activation Function': activation_fn.__name__,\n",
        "                        'Learning Rate': lr,\n",
        "                        'Epochs': epochs,\n",
        "                        'Batch Size': batch_size,\n",
        "                        'Accuracy': accuracy\n",
        "                    })\n",
        "\n",
        "# Save results to CSV\n",
        "results_df = pd.DataFrame(results)\n",
        "results_df.to_csv('mlp_classification_results.csv', index=False)\n",
        "print(\"Results saved to 'mlp_classification_results.csv'\")\n"
      ],
      "metadata": {
        "colab": {
          "base_uri": "https://localhost:8080/"
        },
        "id": "h-q883GVpwU7",
        "outputId": "b0a8239b-71b1-4920-b6e4-57ca98c9b9e8"
      },
      "execution_count": 6,
      "outputs": [
        {
          "output_type": "stream",
          "name": "stdout",
          "text": [
            "Results saved to 'mlp_classification_results.csv'\n"
          ]
        }
      ]
    }
  ]
}