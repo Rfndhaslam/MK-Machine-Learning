{
  "nbformat": 4,
  "nbformat_minor": 0,
  "metadata": {
    "colab": {
      "provenance": []
    },
    "kernelspec": {
      "name": "python3",
      "display_name": "Python 3"
    },
    "language_info": {
      "name": "python"
    }
  },
  "cells": [
    {
      "cell_type": "code",
      "execution_count": 7,
      "metadata": {
        "colab": {
          "base_uri": "https://localhost:8080/"
        },
        "id": "hN1Wnsk5PfON",
        "outputId": "4fcbdbf4-4123-4a58-93c2-a0b887767ab7"
      },
      "outputs": [
        {
          "output_type": "stream",
          "name": "stdout",
          "text": [
            "<class 'pandas.core.frame.DataFrame'>\n",
            "RangeIndex: 1030 entries, 0 to 1029\n",
            "Data columns (total 16 columns):\n",
            " #   Column          Non-Null Count  Dtype  \n",
            "---  ------          --------------  -----  \n",
            " 0   x1              1030 non-null   float64\n",
            " 1   x2              1030 non-null   float64\n",
            " 2   x3              1030 non-null   float64\n",
            " 3   x4              1030 non-null   float64\n",
            " 4   x5              1030 non-null   float64\n",
            " 5   x6              1030 non-null   float64\n",
            " 6   x7              1030 non-null   float64\n",
            " 7   x8              1030 non-null   int64  \n",
            " 8   x9              1030 non-null   float64\n",
            " 9   x10             1030 non-null   float64\n",
            " 10  x11             1030 non-null   float64\n",
            " 11  x12             1030 non-null   int64  \n",
            " 12  x13             1030 non-null   float64\n",
            " 13  x14             1030 non-null   object \n",
            " 14  x15             1030 non-null   object \n",
            " 15  target_feature  1030 non-null   float64\n",
            "dtypes: float64(12), int64(2), object(2)\n",
            "memory usage: 128.9+ KB\n",
            "None\n",
            "      x1     x2   x3     x4   x5      x6     x7   x8        x9    x10  \\\n",
            "0  540.0    0.0  0.0  162.0  2.5  1040.0  676.0   28  0.300000  540.0   \n",
            "1  540.0    0.0  0.0  162.0  2.5  1055.0  676.0   28  0.300000  540.0   \n",
            "2  332.5  142.5  0.0  228.0  0.0   932.0  594.0  270  0.685714  475.0   \n",
            "3  332.5  142.5  0.0  228.0  0.0   932.0  594.0  365  0.685714  475.0   \n",
            "4  198.6  132.4  0.0  192.0  0.0   978.4  825.5  360  0.966767  331.0   \n",
            "\n",
            "        x11  x12       x13  x14  x15  target_feature  \n",
            "0  1.538462    1  0.350044  YEs   NO           79.99  \n",
            "1  1.560651    1  0.452416  yES  nOO           61.89  \n",
            "2  1.569024    0  6.704743  yEs   NO           40.27  \n",
            "3  1.569024    0  8.891596  yes  NOO           41.05  \n",
            "4  1.185221    0  8.126411  YeS   no           44.30  \n"
          ]
        }
      ],
      "source": [
        "# Mengimpor library yang diperlukan\n",
        "import pandas as pd\n",
        "import numpy as np\n",
        "from sklearn.model_selection import train_test_split\n",
        "from sklearn.preprocessing import OneHotEncoder, StandardScaler\n",
        "from sklearn.svm import SVC\n",
        "from sklearn.metrics import classification_report, confusion_matrix, roc_curve, auc\n",
        "\n",
        "# Memuat dataset\n",
        "dataset = pd.read_csv('MaterialStrength.csv')\n",
        "\n",
        "# Menampilkan informasi dataset\n",
        "print(dataset.info())  # Melihat tipe data\n",
        "print(dataset.head())  # Melihat beberapa baris pertama"
      ]
    },
    {
      "cell_type": "code",
      "source": [
        "# Mengimpor library yang diperlukan\n",
        "import pandas as pd\n",
        "import numpy as np\n",
        "from sklearn.model_selection import train_test_split\n",
        "from sklearn.preprocessing import OneHotEncoder, StandardScaler\n",
        "from sklearn.svm import SVC\n",
        "from sklearn.metrics import classification_report, confusion_matrix, roc_curve, auc\n",
        "\n",
        "# Memuat dataset\n",
        "dataset = pd.read_csv('CreditDataset.csv')\n",
        "\n",
        "# Menampilkan informasi dataset\n",
        "print(dataset.info())  # Melihat tipe data\n",
        "print(dataset.head())  # Melihat beberapa baris pertama\n",
        "\n",
        "# Memisahkan fitur (X) dan target (y)\n",
        "X = dataset.drop(columns=[\"Class\"])  # Semua kolom kecuali target\n",
        "y = dataset[\"Class\"]                # Kolom target\n",
        "\n",
        "# Mengidentifikasi kolom kategorikal\n",
        "categorical_columns = X.select_dtypes(include=['object']).columns\n",
        "\n",
        "# One-Hot Encoding untuk data kategorikal\n",
        "# The 'sparse' argument has been replaced with 'sparse_output' in newer versions of scikit-learn.\n",
        "encoder = OneHotEncoder(sparse_output=False, drop='first')  # drop='first' menghindari multikolinearitas\n",
        "X_encoded = encoder.fit_transform(X[categorical_columns])\n",
        "\n",
        "# Menggabungkan kolom numerik dan yang sudah di-encode\n",
        "numerical_columns = X.select_dtypes(include=['int64']).columns\n",
        "X_numerical = X[numerical_columns].values\n",
        "X_processed = pd.DataFrame(\n",
        "    data=np.hstack([X_numerical, X_encoded]),\n",
        "    columns=list(numerical_columns) + list(encoder.get_feature_names_out(categorical_columns))\n",
        ")\n",
        "\n",
        "# Normalisasi (Scaling) data\n",
        "scaler = StandardScaler()\n",
        "X_scaled = scaler.fit_transform(X_processed)\n",
        "\n",
        "# Membagi dataset menjadi training set dan testing set\n",
        "X_train, X_test, y_train, y_test = train_test_split(X_scaled, y, test_size=0.3, random_state=42)\n",
        "\n",
        "print(f\"Shape of Training Data: {X_train.shape}\")\n",
        "print(f\"Shape of Testing Data: {X_test.shape}\")"
      ],
      "metadata": {
        "colab": {
          "base_uri": "https://localhost:8080/"
        },
        "id": "v-8lhzYUQuXy",
        "outputId": "7e811048-2441-410d-89e5-84e414e03e0a"
      },
      "execution_count": 8,
      "outputs": [
        {
          "output_type": "stream",
          "name": "stdout",
          "text": [
            "<class 'pandas.core.frame.DataFrame'>\n",
            "RangeIndex: 1000 entries, 0 to 999\n",
            "Data columns (total 21 columns):\n",
            " #   Column  Non-Null Count  Dtype \n",
            "---  ------  --------------  ----- \n",
            " 0   x1      1000 non-null   object\n",
            " 1   x2      1000 non-null   int64 \n",
            " 2   x3      1000 non-null   object\n",
            " 3   x4      1000 non-null   object\n",
            " 4   x5      1000 non-null   int64 \n",
            " 5   x6      1000 non-null   object\n",
            " 6   x7      1000 non-null   object\n",
            " 7   x8      1000 non-null   int64 \n",
            " 8   x9      1000 non-null   object\n",
            " 9   x10     1000 non-null   object\n",
            " 10  x11     1000 non-null   int64 \n",
            " 11  x12     1000 non-null   object\n",
            " 12  x13     1000 non-null   int64 \n",
            " 13  x14     1000 non-null   object\n",
            " 14  x15     1000 non-null   object\n",
            " 15  x16     1000 non-null   int64 \n",
            " 16  x17     1000 non-null   object\n",
            " 17  x18     1000 non-null   int64 \n",
            " 18  x19     1000 non-null   object\n",
            " 19  x20     1000 non-null   object\n",
            " 20  Class   1000 non-null   int64 \n",
            "dtypes: int64(8), object(13)\n",
            "memory usage: 164.2+ KB\n",
            "None\n",
            "    x1  x2   x3   x4    x5   x6   x7  x8   x9   x10  ...   x12 x13   x14  \\\n",
            "0  A11   6  A34  A43  1169  A65  A75   4  A93  A101  ...  A121  67  A143   \n",
            "1  A12  48  A32  A43  5951  A61  A73   2  A92  A101  ...  A121  22  A143   \n",
            "2  A14  12  A34  A46  2096  A61  A74   2  A93  A101  ...  A121  49  A143   \n",
            "3  A11  42  A32  A42  7882  A61  A74   2  A93  A103  ...  A122  45  A143   \n",
            "4  A11  24  A33  A40  4870  A61  A73   3  A93  A101  ...  A124  53  A143   \n",
            "\n",
            "    x15 x16   x17 x18   x19   x20 Class  \n",
            "0  A152   2  A173   1  A192  A201     1  \n",
            "1  A152   1  A173   1  A191  A201     2  \n",
            "2  A152   1  A172   2  A191  A201     1  \n",
            "3  A153   1  A173   2  A191  A201     1  \n",
            "4  A153   2  A173   2  A191  A201     2  \n",
            "\n",
            "[5 rows x 21 columns]\n",
            "Shape of Training Data: (700, 48)\n",
            "Shape of Testing Data: (300, 48)\n"
          ]
        }
      ]
    },
    {
      "cell_type": "code",
      "source": [
        "# Membuat model klasifikasi SVM\n",
        "svc_model = SVC(kernel='rbf', C=1, gamma='scale', probability=True)  # Menggunakan kernel RBF (default)\n",
        "svc_model.fit(X_train, y_train)  # Melatih model pada data training\n",
        "\n",
        "# Melakukan prediksi pada data testing\n",
        "y_pred = svc_model.predict(X_test)\n",
        "y_proba = svc_model.predict_proba(X_test)[:, 1]  # Probabilitas untuk kelas positif (untuk ROC)\n"
      ],
      "metadata": {
        "id": "G5gGOgqkQ5BD"
      },
      "execution_count": 9,
      "outputs": []
    },
    {
      "cell_type": "code",
      "source": [
        "# Matriks konfusi untuk melihat hasil prediksi\n",
        "print(\"Confusion Matrix:\")\n",
        "print(confusion_matrix(y_test, y_pred))\n",
        "\n",
        "# Classification report (Akurasi, Presisi, Recall, F1-Score)\n",
        "print(\"\\nClassification Report:\")\n",
        "print(classification_report(y_test, y_pred))\n",
        "\n",
        "# ROC dan AUC\n",
        "fpr, tpr, thresholds = roc_curve(y_test, y_proba, pos_label=1)  # ROC untuk kelas positif\n",
        "roc_auc = auc(fpr, tpr)\n",
        "print(f\"\\nAUC: {roc_auc:.2f}\")\n"
      ],
      "metadata": {
        "colab": {
          "base_uri": "https://localhost:8080/"
        },
        "id": "PDH9nUHVQ7b7",
        "outputId": "58cd30c6-3418-4b10-a149-f2b76f7ab6b9"
      },
      "execution_count": 10,
      "outputs": [
        {
          "output_type": "stream",
          "name": "stdout",
          "text": [
            "Confusion Matrix:\n",
            "[[196  13]\n",
            " [ 59  32]]\n",
            "\n",
            "Classification Report:\n",
            "              precision    recall  f1-score   support\n",
            "\n",
            "           1       0.77      0.94      0.84       209\n",
            "           2       0.71      0.35      0.47        91\n",
            "\n",
            "    accuracy                           0.76       300\n",
            "   macro avg       0.74      0.64      0.66       300\n",
            "weighted avg       0.75      0.76      0.73       300\n",
            "\n",
            "\n",
            "AUC: 0.20\n"
          ]
        }
      ]
    },
    {
      "cell_type": "code",
      "source": [
        "import matplotlib.pyplot as plt\n",
        "\n",
        "# Plotting ROC Curve\n",
        "plt.figure()\n",
        "plt.plot(fpr, tpr, color='blue', lw=2, label=f'ROC Curve (AUC = {roc_auc:.2f})')\n",
        "plt.plot([0, 1], [0, 1], color='red', linestyle='--')  # Garis diagonal\n",
        "plt.xlabel('False Positive Rate (FPR)')\n",
        "plt.ylabel('True Positive Rate (TPR)')\n",
        "plt.title('ROC Curve')\n",
        "plt.legend(loc='lower right')\n",
        "plt.grid()\n",
        "plt.show()\n"
      ],
      "metadata": {
        "colab": {
          "base_uri": "https://localhost:8080/",
          "height": 472
        },
        "id": "v_HybOzRQ_h5",
        "outputId": "d1d13e27-6301-485b-ee4c-02d313ff8503"
      },
      "execution_count": 11,
      "outputs": [
        {
          "output_type": "display_data",
          "data": {
            "text/plain": [
              "<Figure size 640x480 with 1 Axes>"
            ],
            "image/png": "[encoded data removed]"
          },
          "metadata": {}
        }
      ]
    }
  ]
}